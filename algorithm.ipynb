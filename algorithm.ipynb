{
 "cells": [
  {
   "cell_type": "code",
   "execution_count": 1,
   "metadata": {},
   "outputs": [],
   "source": [
    "import os \n",
    "import cv2\n",
    "import numpy as np\n",
    "from tqdm import tqdm\n",
    "\n",
    "import torch\n",
    "import torch.utils as utils\n",
    "import torch.nn as nn\n",
    "import torch.nn.functional as F\n",
    "from torch.autograd import Variable\n",
    "\n",
    "import matplotlib.pyplot as plt\n",
    "%matplotlib inline"
   ]
  },
  {
   "cell_type": "code",
   "execution_count": 2,
   "metadata": {},
   "outputs": [
    {
     "name": "stdout",
     "output_type": "stream",
     "text": [
      "# Using device: cpu\n"
     ]
    }
   ],
   "source": [
    "if torch.cuda.is_available():\n",
    "    device = \"cuda\"\n",
    "else:\n",
    "    device = \"cpu\"\n",
    "print(f\"# Using device: {device}\")"
   ]
  },
  {
   "cell_type": "code",
   "execution_count": 3,
   "metadata": {},
   "outputs": [],
   "source": [
    "torch.cuda.empty_cache()"
   ]
  },
  {
   "cell_type": "code",
   "execution_count": 4,
   "metadata": {},
   "outputs": [],
   "source": [
    "class dehazer(): \n",
    "    \n",
    "    def __init__(self, IMG_SIZE,LABEL_DIR,LABEL_NAME):\n",
    "\n",
    "        self.IMG_SIZE = IMG_SIZE\n",
    "        self.LABEL_DIR = LABEL_DIR\n",
    "        self.LABEL_NAME = LABEL_NAME\n",
    "    \n",
    "        self.training_data=[]\n",
    "    \n",
    "    def make_training_data(self):\n",
    "        \n",
    "        NUM_IMAGES = len(os.listdir(self.LABEL_DIR))\n",
    "        \n",
    "        for f in tqdm(range(1, NUM_IMAGES+1)):\n",
    "            f = \"{:02d}\".format(f) + '_' + self.LABEL_NAME + '.png'\n",
    "            path=os.path.join(self.LABEL_DIR,f)\n",
    "            img=cv2.imread(path)\n",
    "            img=cv2.resize(img,(self.IMG_SIZE,self.IMG_SIZE))\n",
    "            self.training_data.append(np.array(img))\n",
    "\n",
    "            \n",
    "        np.save(f'{self.LABEL_NAME}.npy',self.training_data)"
   ]
  },
  {
   "cell_type": "code",
   "execution_count": 5,
   "metadata": {},
   "outputs": [
    {
     "name": "stderr",
     "output_type": "stream",
     "text": [
      "  0%|          | 0/30 [00:00<?, ?it/s][ WARN:0@22.365] global loadsave.cpp:248 findDecoder imread_('../minor_project/input/GT/01_GT.png'): can't open/read file: check file path/integrity\n",
      "  0%|          | 0/30 [00:00<?, ?it/s]\n"
     ]
    },
    {
     "ename": "error",
     "evalue": "OpenCV(4.9.0) /io/opencv/modules/imgproc/src/resize.cpp:4152: error: (-215:Assertion failed) !ssize.empty() in function 'resize'\n",
     "output_type": "error",
     "traceback": [
      "\u001b[0;31m---------------------------------------------------------------------------\u001b[0m",
      "\u001b[0;31merror\u001b[0m                                     Traceback (most recent call last)",
      "Cell \u001b[0;32mIn[5], line 9\u001b[0m\n\u001b[1;32m      7\u001b[0m \u001b[38;5;28;01mif\u001b[39;00m (REBUILD_DATA):\n\u001b[1;32m      8\u001b[0m     dehazing\u001b[38;5;241m=\u001b[39mdehazer(IMG_SIZE, gt_dir, \u001b[38;5;124m'\u001b[39m\u001b[38;5;124mGT\u001b[39m\u001b[38;5;124m'\u001b[39m)\n\u001b[0;32m----> 9\u001b[0m     \u001b[43mdehazing\u001b[49m\u001b[38;5;241;43m.\u001b[39;49m\u001b[43mmake_training_data\u001b[49m\u001b[43m(\u001b[49m\u001b[43m)\u001b[49m\n\u001b[1;32m     11\u001b[0m     dehazing\u001b[38;5;241m=\u001b[39mdehazer(IMG_SIZE, hazy_dir, \u001b[38;5;124m'\u001b[39m\u001b[38;5;124mhazy\u001b[39m\u001b[38;5;124m'\u001b[39m)\n\u001b[1;32m     12\u001b[0m     dehazing\u001b[38;5;241m.\u001b[39mmake_training_data()\n",
      "Cell \u001b[0;32mIn[4], line 19\u001b[0m, in \u001b[0;36mdehazer.make_training_data\u001b[0;34m(self)\u001b[0m\n\u001b[1;32m     17\u001b[0m     path\u001b[38;5;241m=\u001b[39mos\u001b[38;5;241m.\u001b[39mpath\u001b[38;5;241m.\u001b[39mjoin(\u001b[38;5;28mself\u001b[39m\u001b[38;5;241m.\u001b[39mLABEL_DIR,f)\n\u001b[1;32m     18\u001b[0m     img\u001b[38;5;241m=\u001b[39mcv2\u001b[38;5;241m.\u001b[39mimread(path)\n\u001b[0;32m---> 19\u001b[0m     img\u001b[38;5;241m=\u001b[39m\u001b[43mcv2\u001b[49m\u001b[38;5;241;43m.\u001b[39;49m\u001b[43mresize\u001b[49m\u001b[43m(\u001b[49m\u001b[43mimg\u001b[49m\u001b[43m,\u001b[49m\u001b[43m(\u001b[49m\u001b[38;5;28;43mself\u001b[39;49m\u001b[38;5;241;43m.\u001b[39;49m\u001b[43mIMG_SIZE\u001b[49m\u001b[43m,\u001b[49m\u001b[38;5;28;43mself\u001b[39;49m\u001b[38;5;241;43m.\u001b[39;49m\u001b[43mIMG_SIZE\u001b[49m\u001b[43m)\u001b[49m\u001b[43m)\u001b[49m\n\u001b[1;32m     20\u001b[0m     \u001b[38;5;28mself\u001b[39m\u001b[38;5;241m.\u001b[39mtraining_data\u001b[38;5;241m.\u001b[39mappend(np\u001b[38;5;241m.\u001b[39marray(img))\n\u001b[1;32m     23\u001b[0m np\u001b[38;5;241m.\u001b[39msave(\u001b[38;5;124mf\u001b[39m\u001b[38;5;124m'\u001b[39m\u001b[38;5;132;01m{\u001b[39;00m\u001b[38;5;28mself\u001b[39m\u001b[38;5;241m.\u001b[39mLABEL_NAME\u001b[38;5;132;01m}\u001b[39;00m\u001b[38;5;124m.npy\u001b[39m\u001b[38;5;124m'\u001b[39m,\u001b[38;5;28mself\u001b[39m\u001b[38;5;241m.\u001b[39mtraining_data)\n",
      "\u001b[0;31merror\u001b[0m: OpenCV(4.9.0) /io/opencv/modules/imgproc/src/resize.cpp:4152: error: (-215:Assertion failed) !ssize.empty() in function 'resize'\n"
     ]
    }
   ],
   "source": [
    "REBUILD_DATA=True\n",
    "        \n",
    "IMG_SIZE=256\n",
    "gt_dir='../minor_project/input/GT' \n",
    "hazy_dir='../minor_project/input/hazy' \n",
    "    \n",
    "if (REBUILD_DATA):\n",
    "    dehazing=dehazer(IMG_SIZE, gt_dir, 'GT')\n",
    "    dehazing.make_training_data()\n",
    "    \n",
    "    dehazing=dehazer(IMG_SIZE, hazy_dir, 'hazy')\n",
    "    dehazing.make_training_data()"
   ]
  },
  {
   "cell_type": "code",
   "execution_count": null,
   "metadata": {},
   "outputs": [],
   "source": [
    "patch = np.load('GT.npy',allow_pickle=True)\n",
    "mask = np.load('hazy.npy',allow_pickle=True)\n",
    "\n",
    "len(patch), len(mask)"
   ]
  },
  {
   "cell_type": "code",
   "execution_count": null,
   "metadata": {},
   "outputs": [],
   "source": [
    "patch.shape, mask.shape"
   ]
  },
  {
   "cell_type": "code",
   "execution_count": null,
   "metadata": {},
   "outputs": [],
   "source": [
    "for i in range(0,len(patch),5):\n",
    "    \n",
    "    fig=plt.figure(figsize=(15, 5))\n",
    "    \n",
    "    ax = plt.subplot(131)\n",
    "    plt.imshow(patch[i])\n",
    "    \n",
    "    ax = plt.subplot(132)\n",
    "    plt.imshow(mask[i])\n",
    "    plt.show()"
   ]
  },
  {
   "cell_type": "code",
   "execution_count": null,
   "metadata": {},
   "outputs": [],
   "source": [
    "IMG_SIZE = 256\n",
    "\n",
    "EPOCHS = 1000\n",
    "batch_size = 1\n",
    "learning_rate = 0.0005"
   ]
  },
  {
   "cell_type": "code",
   "execution_count": null,
   "metadata": {},
   "outputs": [],
   "source": [
    "\n",
    "\n",
    "patch_loader = torch.utils.data.DataLoader(dataset=patch,batch_size=batch_size,shuffle=False)\n",
    "\n",
    "for data in patch_loader:\n",
    "    print(data.size())\n",
    "    print(type(data))\n",
    "    break\n",
    "\n"
   ]
  },
  {
   "cell_type": "code",
   "execution_count": null,
   "metadata": {},
   "outputs": [],
   "source": [
    "X_orig=torch.Tensor([patch[i] for i in range(len(patch))])\n",
    "X_hazy=torch.Tensor([mask[i] for i in range(len(mask))])\n",
    "\n",
    "X_orig=X_orig/255\n",
    "X_hazy=X_hazy/255"
   ]
  },
  {
   "cell_type": "code",
   "execution_count": null,
   "metadata": {},
   "outputs": [],
   "source": [
    "print('X_orig: ',X_orig.size())\n",
    "\n",
    "X_orig_T=np.transpose(X_orig,(0,3,1,2))\n",
    "X_hazy_T=np.transpose(X_hazy,(0,3,1,2))\n",
    "print('X_orig_T: ',X_orig_T.shape)\n",
    "\n",
    "X_orig_flat=X_orig_T.reshape(-1,1,IMG_SIZE,IMG_SIZE)\n",
    "X_hazy_flat=X_hazy_T.reshape(-1,1,IMG_SIZE,IMG_SIZE)\n",
    "print('X_orig_flat: ',X_orig_flat.shape)"
   ]
  },
  {
   "cell_type": "code",
   "execution_count": null,
   "metadata": {},
   "outputs": [],
   "source": [
    "class Encoder(nn.Module):\n",
    "    def __init__(self):\n",
    "        super(Encoder,self).__init__()\n",
    "        self.layer1 = nn.Sequential(\n",
    "                        nn.Conv2d(1,32,3,padding=1),   # batch x 32 x 256 x 256\n",
    "                        nn.ReLU(),\n",
    "                        nn.BatchNorm2d(32),             \n",
    "                        nn.Conv2d(32,32,3,padding=1),   # batch x 32 x 256 x 256\n",
    "                        nn.ReLU(),\n",
    "                        nn.BatchNorm2d(32),\n",
    "                        nn.Conv2d(32,64,3,padding=1),  # batch x 64 x 256 x 256\n",
    "                        nn.ReLU(),\n",
    "                        nn.BatchNorm2d(64),\n",
    "                        nn.Conv2d(64,64,3,padding=1),  # batch x 64 x 256 x 256\n",
    "                        nn.ReLU(),\n",
    "                        nn.BatchNorm2d(64),\n",
    "                        nn.MaxPool2d(2,2)   # batch x 64 x 128 x 128\n",
    "        )\n",
    "        self.layer2 = nn.Sequential(\n",
    "                        nn.Conv2d(64,128,3,padding=1),  # batch x 128 x 128 x 128\n",
    "                        nn.ReLU(),\n",
    "                        nn.BatchNorm2d(128),\n",
    "                        nn.Conv2d(128,128,3,padding=1),  # batch x 128 x 128 x 128\n",
    "                        nn.ReLU(),\n",
    "                        nn.BatchNorm2d(128),\n",
    "                        nn.MaxPool2d(2,2),\n",
    "                        nn.Conv2d(128,256,3,padding=1),  # batch x 256 x 64 x 64\n",
    "                        nn.ReLU()\n",
    "        )\n",
    "                \n",
    "    def forward(self,x):\n",
    "        out = self.layer1(x)\n",
    "        out = self.layer2(out)\n",
    "        out = out.view(batch_size, -1)\n",
    "        return out\n",
    "    \n",
    "encoder = Encoder().cuda()"
   ]
  },
  {
   "cell_type": "code",
   "execution_count": null,
   "metadata": {},
   "outputs": [],
   "source": [
    "class Decoder(nn.Module):\n",
    "    def __init__(self):\n",
    "        super(Decoder,self).__init__()\n",
    "        self.layer1 = nn.Sequential(\n",
    "                        nn.ConvTranspose2d(256,128,3,2,1,1),\n",
    "                        nn.ReLU(),\n",
    "                        nn.BatchNorm2d(128),\n",
    "                        nn.ConvTranspose2d(128,128,3,1,1),\n",
    "                        nn.ReLU(),\n",
    "                        nn.BatchNorm2d(128),\n",
    "                        nn.ConvTranspose2d(128,64,3,1,1),\n",
    "                        nn.ReLU(),\n",
    "                        nn.BatchNorm2d(64),\n",
    "                        nn.ConvTranspose2d(64,64,3,1,1),\n",
    "                        nn.ReLU(),\n",
    "                        nn.BatchNorm2d(64)\n",
    "        )\n",
    "        self.layer2 = nn.Sequential(\n",
    "                        nn.ConvTranspose2d(64,32,3,1,1),\n",
    "                        nn.ReLU(),\n",
    "                        nn.BatchNorm2d(32),\n",
    "                        nn.ConvTranspose2d(32,32,3,1,1),\n",
    "                        nn.ReLU(),\n",
    "                        nn.BatchNorm2d(32),\n",
    "                        nn.ConvTranspose2d(32,1,3,2,1,1),\n",
    "                        nn.ReLU()\n",
    "        )\n",
    "        \n",
    "    def forward(self,x):\n",
    "        out = x.view(batch_size,256,64,64)\n",
    "        out = self.layer1(out)\n",
    "        out = self.layer2(out)\n",
    "        return out\n",
    "\n",
    "decoder = Decoder().cuda()\n"
   ]
  },
  {
   "cell_type": "code",
   "execution_count": null,
   "metadata": {},
   "outputs": [],
   "source": [
    "# Check output of encoder-decoder\n",
    "\n",
    "train_orig_loader = torch.utils.data.DataLoader(dataset=X_orig_flat,batch_size=batch_size,shuffle=False)\n",
    "train_hazy_loader = torch.utils.data.DataLoader(dataset=X_hazy_flat,batch_size=batch_size,shuffle=False)\n",
    "\n",
    "for train_orig, train_hazy in zip(train_orig_loader, train_hazy_loader):\n",
    "    orig_image = Variable(train_orig).cuda()\n",
    "    hazy_image = Variable(train_hazy).cuda()\n",
    "    \n",
    "    encoder_op = encoder(hazy_image)\n",
    "    output = decoder(encoder_op)\n",
    "    \n",
    "    print('Image Dim: ',orig_image.size())\n",
    "    print('Hazy Image Dim: ',hazy_image.size())\n",
    "    print('Encoder Output Dim: ',encoder_op.size())\n",
    "    print('Output Dim: ',output.size())\n",
    "    break"
   ]
  },
  {
   "cell_type": "code",
   "execution_count": null,
   "metadata": {},
   "outputs": [],
   "source": [
    "# In order to use multi parameters with one optimizer, concat parameters after changing into list\n",
    "\n",
    "parameters = list(encoder.parameters())+ list(decoder.parameters())\n",
    "loss_func = nn.MSELoss()\n",
    "optimizer = torch.optim.Adam(parameters, lr=learning_rate)\n",
    "losses=[]\n",
    "X_orig1=X_orig\n",
    "\n",
    "for epoch in tqdm(range(EPOCHS)):\n",
    "    \n",
    "    rand_idx=torch.randperm(X_orig1.size()[0])\n",
    "    X_orig_iter=X_orig[rand_idx]\n",
    "    X_hazy_iter=X_hazy[rand_idx]\n",
    "\n",
    "    X_orig_iter1=np.transpose(X_orig_iter,(0,3,1,2))\n",
    "    X_hazy_iter1=np.transpose(X_hazy_iter,(0,3,1,2))\n",
    "\n",
    "    X_orig_iter2=X_orig_iter1.reshape(-1,1,IMG_SIZE,IMG_SIZE)\n",
    "    X_hazy_iter2=X_hazy_iter1.reshape(-1,1,IMG_SIZE,IMG_SIZE)\n",
    "\n",
    "    train_orig_loader = torch.utils.data.DataLoader(dataset=X_orig_iter2,batch_size=batch_size,shuffle=False)\n",
    "    train_hazy_loader = torch.utils.data.DataLoader(dataset=X_hazy_iter2,batch_size=batch_size,shuffle=False)\n",
    "\n",
    "    for train_orig, train_hazy in zip(train_orig_loader, train_hazy_loader):\n",
    "        orig_image = Variable(train_orig).cuda()\n",
    "        hazy_image = Variable(train_hazy).cuda()\n",
    "        \n",
    "        optimizer.zero_grad()\n",
    "\n",
    "        encoder_op = encoder(hazy_image)\n",
    "        output = decoder(encoder_op)\n",
    "        \n",
    "        loss=loss_func(output,orig_image)\n",
    "        loss.backward()\n",
    "        optimizer.step()\n",
    "\n",
    "    losses.append(loss)\n",
    "    \n",
    "torch.save([encoder,decoder],'dehaze_autoencoder.pkl')"
   ]
  },
  {
   "cell_type": "code",
   "execution_count": null,
   "metadata": {},
   "outputs": [],
   "source": [
    "plt.title('MSE Loss Plot')\n",
    "plt.xlabel('Epochs')\n",
    "plt.ylabel('Value')\n",
    "plt.plot(losses)\n",
    "plt.show()"
   ]
  },
  {
   "cell_type": "code",
   "execution_count": null,
   "metadata": {},
   "outputs": [],
   "source": [
    "encoder, decoder = torch.load('dehaze_autoencoder.pkl')"
   ]
  },
  {
   "cell_type": "code",
   "execution_count": null,
   "metadata": {},
   "outputs": [],
   "source": [
    "train_hazy_loader = torch.utils.data.DataLoader(dataset=X_hazy_flat,batch_size=batch_size,shuffle=False)\n",
    "\n",
    "dehazed_output=[]\n",
    "for train_hazy in tqdm(train_hazy_loader):\n",
    "    hazy_image = Variable(train_hazy).cuda()\n",
    "    \n",
    "    encoder_op = encoder(hazy_image)\n",
    "    output = decoder(encoder_op)\n",
    "    \n",
    "    output=output.cpu()\n",
    "    output=output.detach()\n",
    "    dehazed_output.append(output)"
   ]
  },
  {
   "cell_type": "code",
   "execution_count": null,
   "metadata": {},
   "outputs": [],
   "source": [
    "X_dehazed=dehazed_output\n",
    "\n",
    "X_dehazed=torch.stack(X_dehazed)\n",
    "print(X_dehazed.size())\n",
    "\n",
    "X_dehazed=X_dehazed.view(-1,1,256,256)\n",
    "print(X_dehazed.size())\n",
    "\n",
    "X_dehazed=X_dehazed.view(-1,3,256,256)\n",
    "print(X_dehazed.size())\n",
    "\n",
    "X_dehazed=X_dehazed.permute(0,2,3,1)\n",
    "print(X_dehazed.shape)\n"
   ]
  },
  {
   "cell_type": "code",
   "execution_count": null,
   "metadata": {},
   "outputs": [],
   "source": [
    "for i in range(0,len(X_orig),10):\n",
    "    \n",
    "    fig=plt.figure(figsize=(15, 5))\n",
    "    ax = plt.subplot(131)\n",
    "    plt.title('Original Image')\n",
    "    plt.imshow(X_orig[i])\n",
    "    \n",
    "    ax = plt.subplot(132)\n",
    "    plt.title('Hazy Image')\n",
    "    plt.imshow(X_hazy[i])\n",
    "    \n",
    "    ax = plt.subplot(133)\n",
    "    plt.title('Dehazed Image')\n",
    "    plt.imshow(X_dehazed[i])\n",
    "    plt.show()"
   ]
  },
  {
   "cell_type": "code",
   "execution_count": null,
   "metadata": {},
   "outputs": [],
   "source": [
    "X_dehazed=X_dehazed.numpy()\n",
    "X_orig=X_orig.numpy()\n",
    "\n",
    "X_orig=X_orig*255\n",
    "X_dehazed=X_dehazed*255\n",
    "\n",
    "ref_mat=X_orig\n",
    "res_mat=X_dehazed\n",
    "\n",
    "print(ref_mat.shape)\n",
    "print(res_mat.shape)"
   ]
  },
  {
   "cell_type": "code",
   "execution_count": null,
   "metadata": {},
   "outputs": [],
   "source": [
    "ref_mat = ref_mat.astype('float') / 255.0\n",
    "res_mat = res_mat.astype('float') / 255.0\n",
    "\n",
    "def output_psnr_mse(img_orig, img_out):\n",
    "    squared_error = np.square(img_orig - img_out)\n",
    "    mse = np.mean(squared_error)\n",
    "    psnr = 10 * np.log10(1.0 / mse)\n",
    "    return psnr\n",
    "\n",
    "def mean_psnr_srgb(ref_mat, res_mat):\n",
    "    n_blk, h, w, c = ref_mat.shape\n",
    "    mean_psnr = 0\n",
    "    for b in range(n_blk):\n",
    "        ref_block = ref_mat[b, :, :, :]\n",
    "        res_block = res_mat[b, :, :, :]\n",
    "        ref_block = np.reshape(ref_block, (h, w, c))\n",
    "        res_block = np.reshape(res_block, (h, w, c))\n",
    "        psnr = output_psnr_mse(ref_block, res_block)\n",
    "        mean_psnr += psnr\n",
    "    return mean_psnr / n_blk\n",
    "\n",
    "#PSNR\n",
    "mean_psnr = mean_psnr_srgb(ref_mat, res_mat)\n",
    "print('mean_psnr:')\n",
    "print(mean_psnr)"
   ]
  },
  {
   "cell_type": "code",
   "execution_count": null,
   "metadata": {},
   "outputs": [],
   "source": [
    "from skimage.metrics import structural_similarity as ssim\n",
    "\n",
    "def mean_ssim_srgb(ref_mat, res_mat):\n",
    "    n_blk, h, w, c = ref_mat.shape\n",
    "    mean_ssim = 0\n",
    "    for b in range(n_blk):\n",
    "        ref_block = ref_mat[b, :, :, :]\n",
    "        res_block = res_mat[b, :, :, :]\n",
    "        ref_block = np.reshape(ref_block, (h, w, c))\n",
    "        res_block = np.reshape(res_block, (h, w, c))\n",
    "        ssim1 = ssim(ref_block, res_block, gaussian_weights=True, use_sample_covariance=False,\n",
    "                     multichannel=True)\n",
    "        mean_ssim += ssim1\n",
    "    return mean_ssim / n_blk\n",
    "\n",
    "# SSIM\n",
    "mean_ssim = mean_ssim_srgb(ref_mat, res_mat)\n",
    "print('mean_ssim:')\n",
    "print(mean_ssim)\n"
   ]
  }
 ],
 "metadata": {
  "kernelspec": {
   "display_name": "Python 3",
   "language": "python",
   "name": "python3"
  },
  "language_info": {
   "codemirror_mode": {
    "name": "ipython",
    "version": 3
   },
   "file_extension": ".py",
   "mimetype": "text/x-python",
   "name": "python",
   "nbconvert_exporter": "python",
   "pygments_lexer": "ipython3",
   "version": "3.11.2"
  }
 },
 "nbformat": 4,
 "nbformat_minor": 2
}
